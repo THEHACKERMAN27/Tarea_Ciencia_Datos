{
 "cells": [
  {
   "cell_type": "code",
   "execution_count": 163,
   "metadata": {},
   "outputs": [],
   "source": [
    "import time\n",
    "from urllib.request import Request, urlopen\n",
    "from urllib.error import HTTPError\n",
    "from selenium import webdriver\n",
    "from selenium.webdriver.firefox.options import Options\n",
    "options = Options()\n",
    "options.binary_location = 'geckodriver'\n",
    "from bs4 import BeautifulSoup as bs\n",
    "import pandas as pd\n",
    "import numpy as np\n",
    "import requests\n",
    "from tqdm import tqdm"
   ]
  },
  {
   "cell_type": "code",
   "execution_count": 164,
   "metadata": {},
   "outputs": [],
   "source": [
    "pages = 100\n",
    "\n",
    "data_1 = []\n",
    "done = False\n",
    "headers = {\n",
    "    'User-Agent': 'Mozilla/5.0 (Windows NT 10.0; Win64; x64) AppleWebKit/537.36 (KHTML, like Gecko) Chrome/58.0.3029.110 Safari/537.36'\n",
    "}\n",
    "base_url = \"https://www.argenprop.com/inmuebles/venta/buenos-aires\"\n",
    "for i in range(1, pages + 1):\n",
    "\n",
    "    response = requests.get(f\"{base_url}?pagina-{i}\", headers=headers)\n",
    "    soup = bs(response.text, 'html5lib')\n",
    "    listings = soup.find_all('div', class_=lambda x:x=='listing__item' if x else False)\n",
    "    data_1.append(listings)\n",
    "    if done:\n",
    "        if len(data_1) == 0:\n",
    "            para_imprimir_al_final = 'No se encontraron publicaciones nuevas.'\n",
    "        else:\n",
    "            para_imprimir_al_final = f'Se encontraron {len(data_1)} publicaciones nuevas.'\n",
    "        break\n",
    "data = []\n",
    "for listings in data_1:\n",
    "    for listing in tqdm(listings):\n",
    "        try:\n",
    "            link_suffix = 'argenprop.com' + listing.find('a').get('href')\n",
    "            link = 'https://www.argenprop.com' + link_suffix\n",
    "            response2 = requests.get(f\"Https://www.{link_suffix}\",headers=headers)\n",
    "            soup = bs(response2.text, 'html5lib')\n",
    "            titulo = soup.find('h2', class_='titlebar__title').get_text(strip=True)\n",
    "            precio = soup.find('div', class_='titlebar__price-mobile').get_text(strip = True)\n",
    "            direccion = soup.find('h2',class_ = 'titlebar__address').get_text(strip = True)\n",
    "            property_data = {\n",
    "                'Titulo':titulo,\n",
    "                'Precio':precio,\n",
    "                'Link':link,\n",
    "                'Dirección':direccion\n",
    "            }\n",
    "            features = soup.find('ul', class_='property-main-features')\n",
    "            for feature in features.find_all('li'):\n",
    "                titulo_caracteristica = feature.get('title')\n",
    "                if titulo_caracteristica:\n",
    "                    valor = feature.find('div', class_='desktop').find('p', class_='strong').get_text(strip=True)\n",
    "                    property_data[titulo_caracteristica] = valor\n",
    "            data.append(property_data)\n",
    "        except:\n",
    "            \n",
    "            print(listing.find('a').get('href'))\n",
    "            pass\n",
    "df = pd.DataFrame(data)\n",
    "df.to_excel(r'BD_Finales/argenprop.xlsx')"
   ]
  }
 ],
 "metadata": {
  "kernelspec": {
   "display_name": "venv_lds",
   "language": "python",
   "name": "python3"
  },
  "language_info": {
   "codemirror_mode": {
    "name": "ipython",
    "version": 3
   },
   "file_extension": ".py",
   "mimetype": "text/x-python",
   "name": "python",
   "nbconvert_exporter": "python",
   "pygments_lexer": "ipython3",
   "version": "3.11.0"
  }
 },
 "nbformat": 4,
 "nbformat_minor": 2
}
